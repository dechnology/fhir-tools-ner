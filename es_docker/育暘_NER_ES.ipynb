{
 "cells": [
  {
   "cell_type": "code",
   "execution_count": 1,
   "id": "c9a393d2-0491-465f-9895-6ce90f77282b",
   "metadata": {},
   "outputs": [],
   "source": [
    "import requests"
   ]
  },
  {
   "cell_type": "code",
   "execution_count": null,
   "id": "6ecb5970-b647-4baa-a8a5-03d73930b19b",
   "metadata": {
    "scrolled": true
   },
   "outputs": [],
   "source": [
    "!pip install elasticsearch==8.15.1"
   ]
  },
  {
   "cell_type": "code",
   "execution_count": 2,
   "id": "0152956a-a89e-49f5-81f1-e6dd09a28724",
   "metadata": {},
   "outputs": [
    {
     "name": "stderr",
     "output_type": "stream",
     "text": [
      "/tmp/ipykernel_3616/4078056810.py:2: DeprecationWarning: Importing from the 'elasticsearch.client' module is deprecated. Instead use 'elasticsearch' module for importing the client.\n",
      "  from elasticsearch.client import IndicesClient\n"
     ]
    }
   ],
   "source": [
    "from elasticsearch import Elasticsearch, RequestError\n",
    "from elasticsearch.client import IndicesClient\n",
    "from elasticsearch.exceptions import NotFoundError\n",
    "from elasticsearch.helpers import parallel_bulk"
   ]
  },
  {
   "cell_type": "code",
   "execution_count": 3,
   "id": "107a515a-73b5-4f40-b4c3-897c8aa87057",
   "metadata": {},
   "outputs": [],
   "source": [
    "es_hosts = [\"http://140.96.83.134:32626\"]\n",
    "es = Elasticsearch(es_hosts, request_timeout=60*60)\n",
    "es_indices = IndicesClient(es)"
   ]
  },
  {
   "cell_type": "code",
   "execution_count": 4,
   "id": "1855112d-204a-4e4d-a54c-7c0bdf02dcfd",
   "metadata": {},
   "outputs": [],
   "source": [
    "INDEXS = ['snomedct_us', 'rxnorm', 'lnc']"
   ]
  },
  {
   "cell_type": "code",
   "execution_count": 5,
   "id": "d3e85fc5-7c21-44ea-adac-25b9fac4d1ff",
   "metadata": {
    "scrolled": true
   },
   "outputs": [
    {
     "name": "stdout",
     "output_type": "stream",
     "text": [
      "delete index `snomedct_us`...\n",
      "index不存在不需要刪除\n",
      "delete index `rxnorm`...\n",
      "index不存在不需要刪除\n",
      "delete index `lnc`...\n",
      "index不存在不需要刪除\n"
     ]
    }
   ],
   "source": [
    "# 刪除原本的index\n",
    "\n",
    "for index in INDEXS:\n",
    "    try:\n",
    "        print(f'delete index `{index}`...')\n",
    "        es_indices.delete(index=index)\n",
    "    except NotFoundError as e:\n",
    "        # 若沒有該index, 則略過.\n",
    "        print(f'index不存在不需要刪除')\n"
   ]
  },
  {
   "cell_type": "code",
   "execution_count": 6,
   "id": "5d55c2f3-abd9-4e38-b191-c03ffff086a3",
   "metadata": {},
   "outputs": [
    {
     "name": "stdout",
     "output_type": "stream",
     "text": [
      "add schema to index `snomedct_us`...\n",
      "add schema to index `rxnorm`...\n",
      "add schema to index `lnc`...\n"
     ]
    }
   ],
   "source": [
    "# 增加schema\n",
    "schema = {\n",
    "  \"settings\": {\n",
    "    \"analysis\": {\n",
    "      \"analyzer\": {\n",
    "        \"my_index_analyzer\": {\n",
    "          \"tokenizer\": \"my_simple_pattern_tokenizer\",\n",
    "          \"filter\": [\n",
    "            \"my_edgegram\",\n",
    "            \"lowercase\"\n",
    "          ]\n",
    "        },\n",
    "        \"my_search_analyzer\": {\n",
    "          \"tokenizer\": \"my_simple_pattern_tokenizer\",\n",
    "          \"filter\": [\n",
    "            \"lowercase\"\n",
    "          ]\n",
    "        }\n",
    "      },\n",
    "      \"tokenizer\": {\n",
    "        \"my_simple_pattern_tokenizer\": {\n",
    "          \"type\": \"simple_pattern\",\n",
    "          \"pattern\": \"(\\\\d+|[A-Za-z]+|[^\\\\s\\\\dA-Za-z\\u0021-\\u002F\\u003A-\\u0040\\u005B-\\u005F\\u007B-\\u007E\\u00A1-\\u00BF])\"\n",
    "        },\n",
    "        \"my_tokenizer\": {\n",
    "          \"type\": \"edge_ngram\",\n",
    "          \"min_gram\": 2,\n",
    "          \"max_gram\": 50,\n",
    "          \"token_chars\": [\n",
    "            \"letter\",\n",
    "            \"digit\",\n",
    "            \"symbol\",\n",
    "            \"punctuation\"\n",
    "          ]\n",
    "        }\n",
    "      },\n",
    "      \"filter\": {\n",
    "        \"my_edgegram\": {\n",
    "          \"type\": \"edge_ngram\",\n",
    "          \"min_gram\": 2,\n",
    "          \"max_gram\": 50,\n",
    "          \"preserve_original\": True\n",
    "        }\n",
    "      }\n",
    "    }\n",
    "  },\n",
    "  \"mappings\": {\n",
    "      \"dynamic\": \"true\",\n",
    "      \"properties\": {\n",
    "          \"CUI\": {\n",
    "              \"type\": \"keyword\"\n",
    "          },\n",
    "          \"SAB\": {\n",
    "              \"type\": \"keyword\"\n",
    "          },\n",
    "          \"TTY\": {\n",
    "              \"type\": \"keyword\"\n",
    "          },\n",
    "          \"CODE\": {\n",
    "            \"type\": \"keyword\"\n",
    "          },\n",
    "          \"STR\": {\n",
    "              \"type\": \"text\",\n",
    "              \"analyzer\": \"my_index_analyzer\",\n",
    "              \"search_analyzer\":\"my_search_analyzer\"\n",
    "          }\n",
    "      }\n",
    "  }\n",
    "}\n",
    "\n",
    "for index in INDEXS:\n",
    "    print(f'add schema to index `{index}`...')\n",
    "    try:\n",
    "        es_indices.create(index=index, body=schema)\n",
    "    except RequestError as e:\n",
    "        logger.warning(e)\n",
    "        logger.warning(str(traceback.format_exc()))\n",
    "        logger.info(f'schema already exist (index=`{index}`).')"
   ]
  },
  {
   "cell_type": "code",
   "execution_count": 7,
   "id": "a807ebe5-b024-40a5-ae88-e5ba97557195",
   "metadata": {},
   "outputs": [],
   "source": [
    "import json\n",
    "def doc_generator():\n",
    "    for i in [1, 2, 3, 4]:\n",
    "        with open(f'filtered_umls_{i}_with_op.ndjson') as f:\n",
    "            while True:\n",
    "                line1 = f.readline().strip()  # e.g. {\"index\": {\"_index\": \"rxnorm\"}}\n",
    "                line2 = f.readline().strip()  # e.g. {\"CUI\": \"C0000039\", \"SAB\": \"RXNORM\", \"TTY\": \"IN\", \"CODE\": \"1926948\", \"STR\": \"1,2-dipalmitoylphosphatidylcholine\"}\n",
    "    \n",
    "                # 如果已經到達文件末尾，跳出迴圈\n",
    "                if not line1 or not line2:\n",
    "                    break\n",
    "    \n",
    "                yield  {\n",
    "                    '_op_type': 'index',\n",
    "                    '_index': json.loads(line1)['index']['_index'],\n",
    "                    **json.loads(line2.strip())\n",
    "                }"
   ]
  },
  {
   "cell_type": "code",
   "execution_count": null,
   "id": "d2865f61-a31c-4f7d-8ef4-bc91321cfa70",
   "metadata": {},
   "outputs": [],
   "source": [
    "# doc_generator 測試\n",
    "for j, i in enumerate(doc_generator()):\n",
    "    print(i)\n",
    "    if j == 10:\n",
    "        break"
   ]
  },
  {
   "cell_type": "code",
   "execution_count": 9,
   "id": "8fbf29c5-23b7-4573-b15e-ce871b04fdab",
   "metadata": {},
   "outputs": [
    {
     "name": "stderr",
     "output_type": "stream",
     "text": [
      "1897402it [03:31, 8975.73it/s] \n"
     ]
    }
   ],
   "source": [
    "from tqdm import tqdm\n",
    "fail_count = 0\n",
    "for is_success, info in tqdm(parallel_bulk(es, doc_generator(), chunk_size=500, raise_on_error=True)):\n",
    "    if is_success:\n",
    "        pass\n",
    "    else:\n",
    "        print(f'文件索引失敗. 錯誤資訊={info}')\n",
    "        fail_count += 1"
   ]
  },
  {
   "cell_type": "code",
   "execution_count": 10,
   "id": "792b10ee-0ced-4b94-b332-574cd91abc2c",
   "metadata": {},
   "outputs": [
    {
     "data": {
      "text/plain": [
       "0"
      ]
     },
     "execution_count": 10,
     "metadata": {},
     "output_type": "execute_result"
    }
   ],
   "source": [
    "fail_count"
   ]
  }
 ],
 "metadata": {
  "kernelspec": {
   "display_name": "Python 3 (ipykernel)",
   "language": "python",
   "name": "python3"
  },
  "language_info": {
   "codemirror_mode": {
    "name": "ipython",
    "version": 3
   },
   "file_extension": ".py",
   "mimetype": "text/x-python",
   "name": "python",
   "nbconvert_exporter": "python",
   "pygments_lexer": "ipython3",
   "version": "3.8.5"
  }
 },
 "nbformat": 4,
 "nbformat_minor": 5
}
